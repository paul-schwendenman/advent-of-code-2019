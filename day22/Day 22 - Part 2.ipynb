{
 "cells": [
  {
   "cell_type": "code",
   "execution_count": 1,
   "metadata": {},
   "outputs": [],
   "source": [
    "import day22"
   ]
  },
  {
   "cell_type": "code",
   "execution_count": 2,
   "metadata": {},
   "outputs": [],
   "source": [
    "def reverse_deal(number):\n",
    "    return (deck_size - 1) - number"
   ]
  },
  {
   "cell_type": "code",
   "execution_count": 3,
   "metadata": {},
   "outputs": [],
   "source": [
    "def reverse_cut(number, cut_value):\n",
    "    return (number + cut_value) % deck_size"
   ]
  },
  {
   "cell_type": "code",
   "execution_count": 4,
   "metadata": {},
   "outputs": [],
   "source": [
    "def reverse_increment(number, increment_value):\n",
    "    return (pow(increment_value, -1, deck_size) * number) % deck_size"
   ]
  },
  {
   "cell_type": "code",
   "execution_count": 5,
   "metadata": {},
   "outputs": [
    {
     "data": {
      "text/plain": [
       "[Instruction(operation=<Operation.INCREMENT: 3>, value=10)]"
      ]
     },
     "execution_count": 5,
     "metadata": {},
     "output_type": "execute_result"
    }
   ],
   "source": [
    "with open('input') as file_input:\n",
    "    instructions = list(day22.parse_instructions(file_input.read().splitlines()))\n",
    "    \n",
    "instructions[:1]"
   ]
  },
  {
   "cell_type": "code",
   "execution_count": 6,
   "metadata": {},
   "outputs": [],
   "source": [
    "deck_size = 119315717514047\n",
    "x = 2020\n",
    "number_of_times = 101741582076661"
   ]
  },
  {
   "cell_type": "markdown",
   "metadata": {},
   "source": [
    "# Operations are linear\n",
    "\n",
    "So `y = f(x) = a * x + b`\n",
    "\n",
    "We need to find `a` and `b`"
   ]
  },
  {
   "cell_type": "code",
   "execution_count": 7,
   "metadata": {},
   "outputs": [
    {
     "data": {
      "text/plain": [
       "(53403051010030, 90934580454472)"
      ]
     },
     "execution_count": 7,
     "metadata": {},
     "output_type": "execute_result"
    }
   ],
   "source": [
    "def f(number):\n",
    "    for operation, value in reversed(instructions):\n",
    "        if day22.Operation.CUT == operation:\n",
    "            number = reverse_cut(number, value)\n",
    "        elif day22.Operation.INCREMENT == operation:\n",
    "            number = reverse_increment(number, value)\n",
    "        elif day22.Operation.STACK == operation:\n",
    "            number = reverse_deal(number)\n",
    "    return number\n",
    "\n",
    "y = f(x)\n",
    "z = f(y)\n",
    "\n",
    "y, z"
   ]
  },
  {
   "cell_type": "code",
   "execution_count": 8,
   "metadata": {},
   "outputs": [
    {
     "data": {
      "text/plain": [
       "(78329155583898, 41150195162392)"
      ]
     },
     "execution_count": 8,
     "metadata": {},
     "output_type": "execute_result"
    }
   ],
   "source": [
    "a = ((y - z) * pow(x-y, -1, deck_size)) % deck_size\n",
    "b = (y - (a * x)) % deck_size\n",
    "\n",
    "a, b"
   ]
  },
  {
   "cell_type": "code",
   "execution_count": 9,
   "metadata": {},
   "outputs": [
    {
     "data": {
      "text/plain": [
       "(5727377000863, 26300027396447007711813122437610682077232)"
      ]
     },
     "execution_count": 9,
     "metadata": {},
     "output_type": "execute_result"
    }
   ],
   "source": [
    "a_new = pow(a, number_of_times, deck_size)\n",
    "b_new = (pow(a, number_of_times, deck_size)-1) * pow(a-1, -1, deck_size) * b\n",
    "\n",
    "a_new, b_new"
   ]
  },
  {
   "cell_type": "code",
   "execution_count": 10,
   "metadata": {},
   "outputs": [
    {
     "data": {
      "text/plain": [
       "68849657493596"
      ]
     },
     "execution_count": 10,
     "metadata": {},
     "output_type": "execute_result"
    }
   ],
   "source": [
    "ans = (a_new * x + b_new) % deck_size\n",
    "\n",
    "ans"
   ]
  },
  {
   "cell_type": "code",
   "execution_count": 11,
   "metadata": {},
   "outputs": [
    {
     "data": {
      "text/plain": [
       "4649"
      ]
     },
     "execution_count": 11,
     "metadata": {},
     "output_type": "execute_result"
    }
   ],
   "source": [
    "day22.part1(instructions, 10007)"
   ]
  },
  {
   "cell_type": "code",
   "execution_count": 12,
   "metadata": {},
   "outputs": [
    {
     "data": {
      "text/plain": [
       "68849657493596"
      ]
     },
     "execution_count": 12,
     "metadata": {},
     "output_type": "execute_result"
    }
   ],
   "source": [
    "ans = (a_new * x + b_new) % deck_size\n",
    "\n",
    "ans"
   ]
  },
  {
   "cell_type": "markdown",
   "metadata": {},
   "source": [
    "## Sources:\n",
    "\n",
    " - https://www.reddit.com/r/adventofcode/comments/ee0rqi/2019_day_22_solutions/fbnifwk/\n",
    " - https://www.reddit.com/r/adventofcode/comments/ee0rqi/2019_day_22_solutions/fbqezq1/"
   ]
  }
 ],
 "metadata": {
  "kernelspec": {
   "display_name": "Python 3",
   "language": "python",
   "name": "python3"
  },
  "language_info": {
   "codemirror_mode": {
    "name": "ipython",
    "version": 3
   },
   "file_extension": ".py",
   "mimetype": "text/x-python",
   "name": "python",
   "nbconvert_exporter": "python",
   "pygments_lexer": "ipython3",
   "version": "3.8.0"
  }
 },
 "nbformat": 4,
 "nbformat_minor": 2
}
